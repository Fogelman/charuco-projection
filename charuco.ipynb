{
 "cells": [
  {
   "cell_type": "code",
   "execution_count": 8,
   "metadata": {},
   "outputs": [],
   "source": [
    "import cv2\n",
    "import matplotlib.pyplot as plt\n",
    "import os\n",
    "import numpy as np"
   ]
  },
  {
   "cell_type": "raw",
   "metadata": {},
   "source": [
    "import os.path\n",
    "snap = 0\n",
    "cap = cv2.VideoCapture(0)\n",
    "\n",
    "_, frame = cap.read()\n",
    "print(frame.shape)\n",
    "while frame is not None:\n",
    "    cv2.imshow('frame', frame[:, ::-1, :])\n",
    "    \n",
    "\n",
    "    k = cv2.waitKey(30) & 0xff\n",
    "    if k == 27:\n",
    "        break\n",
    "    elif k == ord('s'):\n",
    "        filename = f'snap/snap_{snap:05d}.png' \n",
    "        cv2.imwrite(filename, frame)\n",
    "        print(f'Saved {filename}')\n",
    "        snap += 1\n",
    "\n",
    "    _, frame = cap.read()\n",
    "\n",
    "cap.release()\n",
    "cv2.destroyAllWindows()"
   ]
  },
  {
   "cell_type": "code",
   "execution_count": 9,
   "metadata": {},
   "outputs": [],
   "source": [
    "dictionary=cv2.aruco.getPredefinedDictionary(cv2.aruco.DICT_6X6_50)\n",
    "board=cv2.aruco.CharucoBoard_create(5, 7, 3.8, 1.9, dictionary)"
   ]
  },
  {
   "cell_type": "code",
   "execution_count": 23,
   "metadata": {},
   "outputs": [],
   "source": [
    "def detect (img, dictionary, board):\n",
    "    try:\n",
    "        corners, ids, rejectedImgPoints = cv2.aruco.detectMarkers(img, dictionary)\n",
    "        _, charucoCorners, charucoIds = cv2.aruco.interpolateCornersCharuco(corners, ids, img, board)\n",
    "        corners = charucoCorners.reshape(charucoCorners.shape[0],charucoCorners.shape[2])#.astype(np.uint8)\n",
    "        ids = charucoIds.reshape(charucoIds.shape[0])#.astype(np.uint8)\n",
    "        return charucoCorners, ids\n",
    "    except Exception as e:\n",
    "        return None, None\n",
    "    "
   ]
  },
  {
   "cell_type": "code",
   "execution_count": 24,
   "metadata": {},
   "outputs": [],
   "source": [
    "def pairs(ref_ids, ref_corners, points):\n",
    "    pts_src = []\n",
    "    pts_dst = []\n",
    "    for i in range(len(ref_ids)):\n",
    "        if(ref_ids[i] in points):\n",
    "            pts_dst.append(points[i])\n",
    "            pts_src.append(ref_corners[i])\n",
    "    return pts_src, pts_dst"
   ]
  },
  {
   "cell_type": "raw",
   "metadata": {},
   "source": [
    "img = cv2.imread('./snap/snap_00001.png')\n",
    "gray = cv2.cvtColor(img, cv2.COLOR_BGR2GRAY)"
   ]
  },
  {
   "cell_type": "raw",
   "metadata": {},
   "source": [
    "corners, ids = detect(gray, dictionary, board)"
   ]
  },
  {
   "cell_type": "raw",
   "metadata": {},
   "source": [
    "points = {}\n",
    "for i in range(len(ids)):\n",
    "    points[ids[i]] = corners[i] "
   ]
  },
  {
   "cell_type": "code",
   "execution_count": 25,
   "metadata": {},
   "outputs": [],
   "source": [
    "# só uma vez\n",
    "charuco = cv2.imread('charuco.png')\n",
    "insper = cv2.imread('insper.png')"
   ]
  },
  {
   "cell_type": "code",
   "execution_count": 26,
   "metadata": {},
   "outputs": [],
   "source": [
    "# só uma vez\n",
    "ref_corners, ref_ids = detect(charuco, dictionary, board)"
   ]
  },
  {
   "cell_type": "code",
   "execution_count": 29,
   "metadata": {},
   "outputs": [],
   "source": [
    "import os.path\n",
    "cap = cv2.VideoCapture(0)\n",
    "_, frame = cap.read()\n",
    "\n",
    "while frame is not None:\n",
    "    \n",
    "    cv2.imshow('frame', frame)\n",
    "    frame = frame[:,::-1,:]\n",
    "    gray = cv2.cvtColor(frame, cv2.COLOR_BGR2GRAY)\n",
    "\n",
    "    corners, ids = detect(gray, dictionary, board)\n",
    "\n",
    "    try:\n",
    "        if corners is not None and ids is not None:\n",
    "            points = {}\n",
    "            for i in range(len(ids)):\n",
    "                points[ids[i]] = corners[i] \n",
    "\n",
    "            pts_src, pts_dst = pairs(ref_ids, ref_corners, points)\n",
    "\n",
    "            h, status = cv2.findHomography(np.asarray(pts_src), np.asarray(pts_dst))\n",
    "            mask = cv2.warpPerspective(np.ones_like(charuco)*255, h, (gray.shape[1],gray.shape[0]))\n",
    "            not_mask = cv2.bitwise_not(mask)\n",
    "            resized = cv2.resize(insper, charuco.shape[:2], interpolation = cv2.INTER_AREA) \n",
    "            warped = cv2.warpPerspective(resized, h, (frame.shape[1],frame.shape[0]))\n",
    "            final = cv2.bitwise_and(cv2.bitwise_or(frame, mask), cv2.bitwise_or(warped, not_mask))#mask.astype(np.uint8)) [:,:,::-1]\n",
    "\n",
    "            cv2.imshow('charuco', final)\n",
    "    except Exception as e:\n",
    "        pass\n",
    "\n",
    "    k = cv2.waitKey(30) & 0xff\n",
    "    if k == 27:\n",
    "        break\n",
    "\n",
    "    _, frame = cap.read()\n",
    "    frame = frame[:,::-1,:]\n",
    "\n",
    "cap.release()\n",
    "cv2.destroyAllWindows()"
   ]
  },
  {
   "cell_type": "code",
   "execution_count": 15,
   "metadata": {},
   "outputs": [],
   "source": [
    "cap.release()\n",
    "cv2.destroyAllWindows()"
   ]
  },
  {
   "cell_type": "code",
   "execution_count": null,
   "metadata": {},
   "outputs": [],
   "source": []
  }
 ],
 "metadata": {
  "kernelspec": {
   "display_name": "Python 3",
   "language": "python",
   "name": "python3"
  },
  "language_info": {
   "codemirror_mode": {
    "name": "ipython",
    "version": 3
   },
   "file_extension": ".py",
   "mimetype": "text/x-python",
   "name": "python",
   "nbconvert_exporter": "python",
   "pygments_lexer": "ipython3",
   "version": "3.6.8"
  }
 },
 "nbformat": 4,
 "nbformat_minor": 4
}
